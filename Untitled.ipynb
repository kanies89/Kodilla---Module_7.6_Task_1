{
 "cells": [
  {
   "cell_type": "code",
   "execution_count": 1,
   "id": "2c14d9fd",
   "metadata": {},
   "outputs": [],
   "source": [
    "import numpy as np\n",
    "import numpy_financial as npf\n",
    "import matplotlib.pyplot as plt"
   ]
  },
  {
   "cell_type": "markdown",
   "id": "51dad21e",
   "metadata": {},
   "source": [
    "### Ile będzie wynosiła orientacyjna cena mieszkania za 5 lat?"
   ]
  },
  {
   "cell_type": "code",
   "execution_count": 2,
   "id": "5e15af51",
   "metadata": {},
   "outputs": [],
   "source": [
    "m_price = 120 * 10 ** 3\n",
    "pp_increase = 0.05\n",
    "pp_locate = 0.12\n",
    "nper = 5 * 12"
   ]
  },
  {
   "cell_type": "code",
   "execution_count": 3,
   "id": "4f03b66d",
   "metadata": {},
   "outputs": [],
   "source": [
    "m_fut_price = npf.fv(pp_increase, 5, 0, -m_price)"
   ]
  },
  {
   "cell_type": "code",
   "execution_count": 4,
   "id": "e541dc8b",
   "metadata": {},
   "outputs": [
    {
     "data": {
      "text/plain": [
       "153153.78750000003"
      ]
     },
     "execution_count": 4,
     "metadata": {},
     "output_type": "execute_result"
    }
   ],
   "source": [
    "m_fut_price"
   ]
  },
  {
   "cell_type": "code",
   "execution_count": 5,
   "id": "403a5223",
   "metadata": {},
   "outputs": [
    {
     "name": "stdout",
     "output_type": "stream",
     "text": [
      "Mieszkanie o wartości 120 000.00 zł w okresie 5 lat przy stałym rocznym wzroście ceny podrożeje o: 33153.79 zł i będzie kosztować 153153.79 zł.\n"
     ]
    }
   ],
   "source": [
    "print('Mieszkanie o wartości 120 000.00 zł w okresie 5 lat przy stałym rocznym wzroście ceny podrożeje o: {0:.2f} zł i będzie kosztować {1:.2f} zł.'.format(\n",
    "            m_fut_price - m_price, m_fut_price))"
   ]
  },
  {
   "cell_type": "markdown",
   "id": "056de109",
   "metadata": {},
   "source": [
    "### Ile musisz wpłacać do banku każdego miesiąca, aby przy przedstawionej ofercie uzbierać na mieszkanie w ciągu 5 lat?"
   ]
  },
  {
   "cell_type": "code",
   "execution_count": 7,
   "id": "51c07d95",
   "metadata": {},
   "outputs": [],
   "source": [
    "monthly_to_save = npf.pmt(0.12 / 12, 5 * 12, 0, -m_fut_price)"
   ]
  },
  {
   "cell_type": "code",
   "execution_count": 8,
   "id": "df0aa6a6",
   "metadata": {},
   "outputs": [
    {
     "data": {
      "text/plain": [
       "1875.283538788312"
      ]
     },
     "execution_count": 8,
     "metadata": {},
     "output_type": "execute_result"
    }
   ],
   "source": [
    "monthly_to_save"
   ]
  },
  {
   "cell_type": "code",
   "execution_count": 9,
   "id": "779021a7",
   "metadata": {},
   "outputs": [
    {
     "name": "stdout",
     "output_type": "stream",
     "text": [
      "Przy stopie procentowej 12% w skali roku oraz kapitalizacji miesięcznej w okresie 5 lat należy odkładać co miesiąc: 1875.28 zł.\n"
     ]
    }
   ],
   "source": [
    "print('Przy stopie procentowej 12% w skali roku oraz kapitalizacji miesięcznej w okresie 5 lat należy odkładać co miesiąc: {0:.2f} zł.'.format(\n",
    "            monthly_to_save))"
   ]
  },
  {
   "cell_type": "markdown",
   "id": "5a7d43dd",
   "metadata": {},
   "source": [
    "### Stwórz wykres przedstawiający, jak w interwałach miesięcznych zmieniać się będzie cena mieszkania (liniowy wzrost w całym okresie) oraz wartość twojej lokaty."
   ]
  },
  {
   "cell_type": "code",
   "execution_count": 21,
   "id": "9387858b",
   "metadata": {},
   "outputs": [],
   "source": [
    "periods_savings = []  \n",
    "savings = []\n",
    "saved = 0\n",
    "price = []\n",
    "periods = np.arange(0, 61, dtype=int) \n",
    "for i in periods:\n",
    "    interest_equal = np.around(npf.ppmt(pp_locate/12, i, -nper, -saved), 2)\n",
    "    saved += monthly_to_save + interest_equal\n",
    "    savings.append(saved)"
   ]
  },
  {
   "cell_type": "code",
   "execution_count": 22,
   "id": "c843b6be",
   "metadata": {},
   "outputs": [
    {
     "data": {
      "text/plain": [
       "array([  1875.28353879,   5584.14061636,   9251.37769394,  12877.12477152,\n",
       "        16461.50184909,  20004.65892667,  23506.74600425,  26967.93308182,\n",
       "        30388.4101594 ,  33768.36723698,  37108.00431455,  40407.55139213,\n",
       "        43667.24846971,  46887.33554728,  50068.07262486,  53209.72970244,\n",
       "        56312.58678001,  59376.95385759,  62403.13093517,  65391.43801274,\n",
       "        68342.21509032,  71255.8021679 ,  74132.55924547,  76972.84632305,\n",
       "        79777.04340063,  82545.5404782 ,  85278.73755578,  87977.04463336,\n",
       "        90640.87171093,  93270.65878851,  95866.83586609,  98429.86294366,\n",
       "       100960.19002124, 103458.27709882, 105924.59417639, 108359.63125397,\n",
       "       110763.87833155, 113137.82540912, 115481.9724867 , 117796.83956428,\n",
       "       120082.93664185, 122340.78371943, 124570.90079701, 126773.82787458,\n",
       "       128950.09495216, 131100.25202974, 133224.83910731, 135324.39618489,\n",
       "       137399.48326247, 139450.65034004, 141478.44741762, 143483.4344952 ,\n",
       "       145466.18157277, 147427.23865035, 149367.16572793, 151286.5228055 ,\n",
       "       153185.87988308, 155065.78696066, 156926.80403823, 158769.49111581,\n",
       "       160594.40819339])"
      ]
     },
     "execution_count": 22,
     "metadata": {},
     "output_type": "execute_result"
    }
   ],
   "source": [
    "savings = np.array(savings)\n",
    "savings_payed = periods * monthly_to_save\n",
    "savings = savings + savings_payed\n",
    "savings"
   ]
  },
  {
   "cell_type": "code",
   "execution_count": 23,
   "id": "27115886",
   "metadata": {},
   "outputs": [
    {
     "data": {
      "text/plain": [
       "array([120000.        , 120488.89485404, 120979.78152623, 121472.66813148,\n",
       "       121967.56281778, 122464.47376629, 122963.40919152, 123464.37734142,\n",
       "       123967.38649758, 124472.44497531, 124979.56112379, 125488.74332623,\n",
       "       126000.        , 126513.33959674, 127028.77060254, 127546.30153806,\n",
       "       128065.94095867, 128587.69745461, 129111.57965109, 129637.59620849,\n",
       "       130165.75582246, 130696.06722407, 131228.53917998, 131763.18049255,\n",
       "       132300.        , 132839.00657658, 133380.20913267, 133923.61661496,\n",
       "       134469.23800661, 135017.08232734, 135567.15863365, 136119.47601892,\n",
       "       136674.04361358, 137230.87058528, 137789.96613898, 138351.33951717,\n",
       "       138915.        , 139480.95690541, 140049.2195893 , 140619.79744571,\n",
       "       141192.69990694, 141767.9364437 , 142345.51656533, 142925.44981986,\n",
       "       143507.74579426, 144092.41411454, 144679.46444593, 145268.90649303,\n",
       "       145860.75      , 146455.00475068, 147051.68056876, 147650.787318  ,\n",
       "       148252.33490228, 148856.33326589, 149462.79239359, 150071.72231086,\n",
       "       150683.13308398, 151297.03482027, 151913.43766822, 152532.35181768,\n",
       "       153153.7875    ])"
      ]
     },
     "execution_count": 23,
     "metadata": {},
     "output_type": "execute_result"
    }
   ],
   "source": [
    "price = []\n",
    "for i in periods:\n",
    "    price.append(npf.fv(pp_increase, i/12, 0, -m_price))\n",
    "price = np.array(price)\n",
    "price\n"
   ]
  },
  {
   "cell_type": "code",
   "execution_count": 24,
   "id": "3afde650",
   "metadata": {},
   "outputs": [
    {
     "data": {
      "text/plain": [
       "Text(0, 0.5, 'Skumulowana wartość')"
      ]
     },
     "execution_count": 24,
     "metadata": {},
     "output_type": "execute_result"
    },
    {
     "data": {
      "image/png": "[encoded data removed]",
      "text/plain": [
       "<Figure size 640x480 with 1 Axes>"
      ]
     },
     "metadata": {},
     "output_type": "display_data"
    }
   ],
   "source": [
    "plt.plot(price, label='wzrost wartości mieszkania')\n",
    "plt.plot(savings, label='wpłaty na lokatę')\n",
    "plt.legend()\n",
    "plt.xlabel('Liczba okresów')\n",
    "plt.ylabel('Skumulowana wartość')"
   ]
  },
  {
   "cell_type": "code",
   "execution_count": null,
   "id": "fdf3ff24",
   "metadata": {},
   "outputs": [],
   "source": []
  }
 ],
 "metadata": {
  "kernelspec": {
   "display_name": "Python 3 (ipykernel)",
   "language": "python",
   "name": "python3"
  },
  "language_info": {
   "codemirror_mode": {
    "name": "ipython",
    "version": 3
   },
   "file_extension": ".py",
   "mimetype": "text/x-python",
   "name": "python",
   "nbconvert_exporter": "python",
   "pygments_lexer": "ipython3",
   "version": "3.9.13"
  }
 },
 "nbformat": 4,
 "nbformat_minor": 5
}
