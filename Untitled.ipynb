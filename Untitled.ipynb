{
 "cells": [
  {
   "cell_type": "code",
   "execution_count": 15,
   "id": "2c14d9fd",
   "metadata": {},
   "outputs": [],
   "source": [
    "import numpy as np\n",
    "import numpy_financial as npf\n",
    "import matplotlib.pyplot as plt"
   ]
  },
  {
   "cell_type": "markdown",
   "id": "51dad21e",
   "metadata": {},
   "source": [
    "### Ile będzie wynosiła orientacyjna cena mieszkania za 5 lat?"
   ]
  },
  {
   "cell_type": "code",
   "execution_count": 16,
   "id": "5e15af51",
   "metadata": {},
   "outputs": [],
   "source": [
    "m_price = 120 * 10 ** 3\n",
    "pp_increase = 0.05\n",
    "pp_locate = 0.12\n",
    "nper = 5 * 12"
   ]
  },
  {
   "cell_type": "code",
   "execution_count": 17,
   "id": "4f03b66d",
   "metadata": {},
   "outputs": [],
   "source": [
    "m_fut_price = npf.fv(pp_increase, 5, 0, -m_price)"
   ]
  },
  {
   "cell_type": "code",
   "execution_count": 18,
   "id": "e541dc8b",
   "metadata": {},
   "outputs": [
    {
     "data": {
      "text/plain": [
       "153153.78750000003"
      ]
     },
     "execution_count": 18,
     "metadata": {},
     "output_type": "execute_result"
    }
   ],
   "source": [
    "m_fut_price"
   ]
  },
  {
   "cell_type": "code",
   "execution_count": 19,
   "id": "403a5223",
   "metadata": {},
   "outputs": [
    {
     "name": "stdout",
     "output_type": "stream",
     "text": [
      "Mieszkanie o wartości 120 000.00 zł w okresie 5 lat przy stałym rocznym wzroście ceny podrożeje o: 33153.79 zł i będzie kosztować 153153.79 zł.\n"
     ]
    }
   ],
   "source": [
    "print('Mieszkanie o wartości 120 000.00 zł w okresie 5 lat przy stałym rocznym wzroście ceny podrożeje o: {0:.2f} zł i będzie kosztować {1:.2f} zł.'.format(\n",
    "            m_fut_price - m_price, m_fut_price))"
   ]
  },
  {
   "cell_type": "markdown",
   "id": "056de109",
   "metadata": {},
   "source": [
    "### Ile musisz wpłacać do banku każdego miesiąca, aby przy przedstawionej ofercie uzbierać na mieszkanie w ciągu 5 lat?"
   ]
  },
  {
   "cell_type": "code",
   "execution_count": 20,
   "id": "51c07d95",
   "metadata": {},
   "outputs": [],
   "source": [
    "monthly_to_save = npf.pmt(0.12 / 12, 5 * 12, 0, -m_fut_price)"
   ]
  },
  {
   "cell_type": "code",
   "execution_count": 21,
   "id": "df0aa6a6",
   "metadata": {},
   "outputs": [
    {
     "data": {
      "text/plain": [
       "1875.283538788312"
      ]
     },
     "execution_count": 21,
     "metadata": {},
     "output_type": "execute_result"
    }
   ],
   "source": [
    "monthly_to_save"
   ]
  },
  {
   "cell_type": "code",
   "execution_count": 22,
   "id": "779021a7",
   "metadata": {},
   "outputs": [
    {
     "name": "stdout",
     "output_type": "stream",
     "text": [
      "Przy stopie procentowej 12% w skali roku oraz kapitalizacji miesięcznej w okresie 5 lat należy odkładać co miesiąc: 1875.28 zł.\n"
     ]
    }
   ],
   "source": [
    "print('Przy stopie procentowej 12% w skali roku oraz kapitalizacji miesięcznej w okresie 5 lat należy odkładać co miesiąc: {0:.2f} zł.'.format(\n",
    "            monthly_to_save))"
   ]
  },
  {
   "cell_type": "markdown",
   "id": "5a7d43dd",
   "metadata": {},
   "source": [
    "### Stwórz wykres przedstawiający, jak w interwałach miesięcznych zmieniać się będzie cena mieszkania (liniowy wzrost w całym okresie) oraz wartość twojej lokaty."
   ]
  },
  {
   "cell_type": "code",
   "execution_count": 117,
   "id": "9387858b",
   "metadata": {},
   "outputs": [
    {
     "data": {
      "text/plain": [
       "array([2.273000e+01, 6.865000e+01, 1.382200e+02, 2.319100e+02,\n",
       "       3.502000e+02, 4.935600e+02, 6.624900e+02, 8.574900e+02,\n",
       "       1.079050e+03, 1.327690e+03, 1.603930e+03, 1.908300e+03,\n",
       "       2.241330e+03, 2.603570e+03, 2.995560e+03, 3.417860e+03,\n",
       "       3.871050e+03, 4.355690e+03, 4.872370e+03, 5.421680e+03,\n",
       "       6.004230e+03, 6.620620e+03, 7.271470e+03, 7.957410e+03,\n",
       "       8.679080e+03, 9.437120e+03, 1.023219e+04, 1.106495e+04,\n",
       "       1.193608e+04, 1.284626e+04, 1.379618e+04, 1.478655e+04,\n",
       "       1.581808e+04, 1.689150e+04, 1.800754e+04, 1.916695e+04,\n",
       "       2.037048e+04, 2.161890e+04, 2.291298e+04, 2.425352e+04,\n",
       "       2.564131e+04, 2.707716e+04, 2.856190e+04, 3.009636e+04,\n",
       "       3.168139e+04, 3.331785e+04, 3.500660e+04, 3.674853e+04,\n",
       "       3.854453e+04, 4.039551e+04, 4.230239e+04, 4.426610e+04,\n",
       "       4.628759e+04, 4.836782e+04, 5.050776e+04, 5.270840e+04,\n",
       "       5.497073e+04, 5.729577e+04, 5.968455e+04, 6.213811e+04])"
      ]
     },
     "execution_count": 117,
     "metadata": {},
     "output_type": "execute_result"
    }
   ],
   "source": [
    "periods = np.arange(0, 60, dtype=int)\n",
    "saved = np.cumsum(np.ones(60, dtype=int) * monthly_to_save)\n",
    "interest_equal = np.around(npf.ppmt(pp_locate/12, periods, nper, -saved), 2)\n",
    "interest_equal = np.around(np.cumsum(interest_equal, dtype=float), 2)\n",
    "interest_equal"
   ]
  },
  {
   "cell_type": "code",
   "execution_count": 113,
   "id": "4cb052fe",
   "metadata": {},
   "outputs": [
    {
     "data": {
      "text/plain": [
       "array([  1875.28,   3750.57,   5625.85,   7501.13,   9376.42,  11251.7 ,\n",
       "        13126.98,  15002.27,  16877.55,  18752.84,  20628.12,  22503.4 ,\n",
       "        24378.69,  26253.97,  28129.25,  30004.54,  31879.82,  33755.1 ,\n",
       "        35630.39,  37505.67,  39380.95,  41256.24,  43131.52,  45006.8 ,\n",
       "        46882.09,  48757.37,  50632.66,  52507.94,  54383.22,  56258.51,\n",
       "        58133.79,  60009.07,  61884.36,  63759.64,  65634.92,  67510.21,\n",
       "        69385.49,  71260.77,  73136.06,  75011.34,  76886.63,  78761.91,\n",
       "        80637.19,  82512.48,  84387.76,  86263.04,  88138.33,  90013.61,\n",
       "        91888.89,  93764.18,  95639.46,  97514.74,  99390.03, 101265.31,\n",
       "       103140.59, 105015.88, 106891.16, 108766.45, 110641.73, 112517.01])"
      ]
     },
     "execution_count": 113,
     "metadata": {},
     "output_type": "execute_result"
    }
   ],
   "source": [
    "np.round(saved, 2)"
   ]
  },
  {
   "cell_type": "code",
   "execution_count": 114,
   "id": "c843b6be",
   "metadata": {},
   "outputs": [
    {
     "data": {
      "text/plain": [
       "array([  1897.28,   3817.57,   5761.85,   7730.13,   9723.42,  11741.7 ,\n",
       "        13784.98,  15855.27,  17951.55,  20074.84,  22226.12,  24405.4 ,\n",
       "        26613.69,  28850.97,  31117.25,  33414.54,  35742.82,  38102.1 ,\n",
       "        40493.39,  42917.67,  45374.95,  47866.24,  50391.52,  52951.8 ,\n",
       "        55548.09,  58181.37,  60851.66,  63558.94,  66305.22,  69090.51,\n",
       "        71914.79,  74780.07,  77686.36,  80634.64,  83625.92,  86660.21,\n",
       "        89738.49,  92861.77,  96031.06,  99246.34, 102508.63, 105818.91,\n",
       "       109178.19, 112587.48, 116047.76, 119559.04, 123122.33, 126738.61,\n",
       "       130409.89, 134135.18, 137916.46, 141754.74, 145651.03, 149606.31,\n",
       "       153620.59, 157695.88, 161833.16, 166033.45, 170296.73, 174625.01])"
      ]
     },
     "execution_count": 114,
     "metadata": {},
     "output_type": "execute_result"
    }
   ],
   "source": [
    "savings = np.round(saved + interest_equal, 2)\n",
    "savings"
   ]
  },
  {
   "cell_type": "code",
   "execution_count": 122,
   "id": "27115886",
   "metadata": {},
   "outputs": [
    {
     "data": {
      "text/plain": [
       "array([120000.        , 120488.89485404, 120979.78152623, 121472.66813148,\n",
       "       121967.56281778, 122464.47376629, 122963.40919152, 123464.37734142,\n",
       "       123967.38649758, 124472.44497531, 124979.56112379, 125488.74332623,\n",
       "       126000.        , 126513.33959674, 127028.77060254, 127546.30153806,\n",
       "       128065.94095867, 128587.69745461, 129111.57965109, 129637.59620849,\n",
       "       130165.75582246, 130696.06722407, 131228.53917998, 131763.18049255,\n",
       "       132300.        , 132839.00657658, 133380.20913267, 133923.61661496,\n",
       "       134469.23800661, 135017.08232734, 135567.15863365, 136119.47601892,\n",
       "       136674.04361358, 137230.87058528, 137789.96613898, 138351.33951717,\n",
       "       138915.        , 139480.95690541, 140049.2195893 , 140619.79744571,\n",
       "       141192.69990694, 141767.9364437 , 142345.51656533, 142925.44981986,\n",
       "       143507.74579426, 144092.41411454, 144679.46444593, 145268.90649303,\n",
       "       145860.75      , 146455.00475068, 147051.68056876, 147650.787318  ,\n",
       "       148252.33490228, 148856.33326589, 149462.79239359, 150071.72231086,\n",
       "       150683.13308398, 151297.03482027, 151913.43766822, 152532.35181768])"
      ]
     },
     "execution_count": 122,
     "metadata": {},
     "output_type": "execute_result"
    }
   ],
   "source": [
    "price = np.ones(60) * (npf.fv(pp_increase, periods/12, 0, -m_price))\n",
    "price"
   ]
  },
  {
   "cell_type": "code",
   "execution_count": 109,
   "id": "3afde650",
   "metadata": {},
   "outputs": [
    {
     "data": {
      "text/plain": [
       "Text(0, 0.5, 'Skumulowana wartość')"
      ]
     },
     "execution_count": 109,
     "metadata": {},
     "output_type": "execute_result"
    },
    {
     "data": {
      "image/png": "[encoded data removed]",
      "text/plain": [
       "<Figure size 640x480 with 1 Axes>"
      ]
     },
     "metadata": {},
     "output_type": "display_data"
    }
   ],
   "source": [
    "plt.plot(price, label='wzrost wartości mieszkania')\n",
    "plt.plot(savings, label='wpłaty na lokatę')\n",
    "plt.legend()\n",
    "plt.xlabel('Liczba okresów')\n",
    "plt.ylabel('Skumulowana wartość')"
   ]
  },
  {
   "cell_type": "code",
   "execution_count": null,
   "id": "043d1684",
   "metadata": {},
   "outputs": [],
   "source": []
  }
 ],
 "metadata": {
  "kernelspec": {
   "display_name": "Python 3 (ipykernel)",
   "language": "python",
   "name": "python3"
  },
  "language_info": {
   "codemirror_mode": {
    "name": "ipython",
    "version": 3
   },
   "file_extension": ".py",
   "mimetype": "text/x-python",
   "name": "python",
   "nbconvert_exporter": "python",
   "pygments_lexer": "ipython3",
   "version": "3.9.13"
  }
 },
 "nbformat": 4,
 "nbformat_minor": 5
}
