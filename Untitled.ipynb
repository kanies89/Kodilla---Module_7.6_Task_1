{
 "cells": [
  {
   "cell_type": "code",
   "execution_count": 32,
   "id": "6ae58c05",
   "metadata": {},
   "outputs": [],
   "source": [
    "import numpy as np\n",
    "import numpy_financial as npf\n",
    "import matplotlib.pyplot as plt"
   ]
  },
  {
   "cell_type": "markdown",
   "id": "c9d3cbe8",
   "metadata": {},
   "source": [
    "### Ile będzie wynosiła orientacyjna cena mieszkania za 5 lat?"
   ]
  },
  {
   "cell_type": "code",
   "execution_count": 6,
   "id": "222ae4ed",
   "metadata": {},
   "outputs": [],
   "source": [
    "m_price = 120 * 10 ** 3\n",
    "pp_increase = 0.05\n",
    "pp_locate = 0.12\n",
    "nper = 5 * 12"
   ]
  },
  {
   "cell_type": "code",
   "execution_count": 15,
   "id": "072e8b4c",
   "metadata": {},
   "outputs": [],
   "source": [
    "m_fut_price = npf.fv(pp_increase, 5, 0, -m_price)"
   ]
  },
  {
   "cell_type": "code",
   "execution_count": 16,
   "id": "127e59c4",
   "metadata": {},
   "outputs": [
    {
     "data": {
      "text/plain": [
       "153153.78750000003"
      ]
     },
     "execution_count": 16,
     "metadata": {},
     "output_type": "execute_result"
    }
   ],
   "source": [
    "m_fut_price"
   ]
  },
  {
   "cell_type": "code",
   "execution_count": 12,
   "id": "ad01b326",
   "metadata": {},
   "outputs": [
    {
     "name": "stdout",
     "output_type": "stream",
     "text": [
      "Mieszkanie o wartości 120 000.00 zł w okresie 5 lat przy stałym rocznym wzroście ceny podrożeje o: 33153.79 zł i będzie kosztować 153153.79 zł.\n"
     ]
    }
   ],
   "source": [
    "print('Mieszkanie o wartości 120 000.00 zł w okresie 5 lat przy stałym rocznym wzroście ceny podrożeje o: {0:.2f} zł i będzie kosztować {1:.2f} zł.'.format(\n",
    "            m_fut_price - m_price, m_fut_price))"
   ]
  },
  {
   "cell_type": "markdown",
   "id": "aef56f8e",
   "metadata": {},
   "source": [
    "### Ile musisz wpłacać do banku każdego miesiąca, aby przy przedstawionej ofercie uzbierać na mieszkanie w ciągu 5 lat?"
   ]
  },
  {
   "cell_type": "code",
   "execution_count": 13,
   "id": "9b72d86f",
   "metadata": {},
   "outputs": [],
   "source": [
    "monthly_to_save = npf.pmt(0.12 / 12, 5 * 12, 0, -m_fut_price)"
   ]
  },
  {
   "cell_type": "code",
   "execution_count": 14,
   "id": "c7b97cb8",
   "metadata": {},
   "outputs": [
    {
     "data": {
      "text/plain": [
       "1875.283538788312"
      ]
     },
     "execution_count": 14,
     "metadata": {},
     "output_type": "execute_result"
    }
   ],
   "source": [
    "monthly_to_save"
   ]
  },
  {
   "cell_type": "code",
   "execution_count": 17,
   "id": "4c380bb6",
   "metadata": {},
   "outputs": [
    {
     "name": "stdout",
     "output_type": "stream",
     "text": [
      "Przy stopie procentowej 12% w skali roku oraz kapitalizacji miesięcznej w okresie 5 lat należy odkładać co miesiąc: 1875.28 zł.\n"
     ]
    }
   ],
   "source": [
    "print('Przy stopie procentowej 12% w skali roku oraz kapitalizacji miesięcznej w okresie 5 lat należy odkładać co miesiąc: {0:.2f} zł.'.format(\n",
    "            monthly_to_save))"
   ]
  },
  {
   "cell_type": "markdown",
   "id": "561028c4",
   "metadata": {},
   "source": [
    "### Stwórz wykres przedstawiający, jak w interwałach miesięcznych zmieniać się będzie cena mieszkania (liniowy wzrost w całym okresie) oraz wartość twojej lokaty.\n"
   ]
  },
  {
   "cell_type": "code",
   "execution_count": 19,
   "id": "49125b63",
   "metadata": {},
   "outputs": [],
   "source": [
    "periods_savings = []\n",
    "year = 0\n",
    "new_periods = []"
   ]
  },
  {
   "cell_type": "code",
   "execution_count": 20,
   "id": "7a01969a",
   "metadata": {},
   "outputs": [],
   "source": [
    "for i in range(72):\n",
    "    if i == 0:\n",
    "        continue\n",
    "    if i < 12:\n",
    "        months = 0\n",
    "    if i % 12 == 0:\n",
    "        months += 12\n",
    "    new_periods.append(months)"
   ]
  },
  {
   "cell_type": "code",
   "execution_count": 23,
   "id": "ecb13694",
   "metadata": {},
   "outputs": [
    {
     "data": {
      "text/plain": [
       "array([ 0,  0,  0,  0,  0,  0,  0,  0,  0,  0,  0, 12, 12, 12, 12, 12, 12,\n",
       "       12, 12, 12, 12, 12, 12, 24, 24, 24, 24, 24, 24, 24, 24, 24, 24, 24,\n",
       "       24, 36, 36, 36, 36, 36, 36, 36, 36, 36, 36, 36, 36, 48, 48, 48, 48,\n",
       "       48, 48, 48, 48, 48, 48, 48, 48, 60, 60, 60, 60, 60, 60, 60, 60, 60,\n",
       "       60, 60, 60])"
      ]
     },
     "execution_count": 23,
     "metadata": {},
     "output_type": "execute_result"
    }
   ],
   "source": [
    "new_periods = np.array(new_periods)\n",
    "new_periods.transpose()"
   ]
  },
  {
   "cell_type": "code",
   "execution_count": 25,
   "id": "fe231c54",
   "metadata": {},
   "outputs": [
    {
     "data": {
      "text/plain": [
       "array([ 0,  1,  2,  3,  4,  5,  6,  7,  8,  9, 10, 11, 12, 13, 14, 15, 16,\n",
       "       17, 18, 19, 20, 21, 22, 23, 24, 25, 26, 27, 28, 29, 30, 31, 32, 33,\n",
       "       34, 35, 36, 37, 38, 39, 40, 41, 42, 43, 44, 45, 46, 47, 48, 49, 50,\n",
       "       51, 52, 53, 54, 55, 56, 57, 58, 59, 60])"
      ]
     },
     "execution_count": 25,
     "metadata": {},
     "output_type": "execute_result"
    }
   ],
   "source": [
    "periods = np.arange(0, 61, dtype=int)\n",
    "periods"
   ]
  },
  {
   "cell_type": "code",
   "execution_count": 26,
   "id": "b62329da",
   "metadata": {},
   "outputs": [],
   "source": [
    "savings = monthly_to_save * periods"
   ]
  },
  {
   "cell_type": "code",
   "execution_count": 30,
   "id": "011fc7f8",
   "metadata": {},
   "outputs": [
    {
     "data": {
      "text/plain": [
       "array([120000.    , 120000.    , 120000.    , 120000.    , 120000.    ,\n",
       "       120000.    , 120000.    , 120000.    , 120000.    , 120000.    ,\n",
       "       120000.    , 126000.    , 126000.    , 126000.    , 126000.    ,\n",
       "       126000.    , 126000.    , 126000.    , 126000.    , 126000.    ,\n",
       "       126000.    , 126000.    , 126000.    , 132300.    , 132300.    ,\n",
       "       132300.    , 132300.    , 132300.    , 132300.    , 132300.    ,\n",
       "       132300.    , 132300.    , 132300.    , 132300.    , 132300.    ,\n",
       "       138915.    , 138915.    , 138915.    , 138915.    , 138915.    ,\n",
       "       138915.    , 138915.    , 138915.    , 138915.    , 138915.    ,\n",
       "       138915.    , 138915.    , 145860.75  , 145860.75  , 145860.75  ,\n",
       "       145860.75  , 145860.75  , 145860.75  , 145860.75  , 145860.75  ,\n",
       "       145860.75  , 145860.75  , 145860.75  , 145860.75  , 153153.7875,\n",
       "       153153.7875, 153153.7875, 153153.7875, 153153.7875, 153153.7875,\n",
       "       153153.7875, 153153.7875, 153153.7875, 153153.7875, 153153.7875,\n",
       "       153153.7875])"
      ]
     },
     "execution_count": 30,
     "metadata": {},
     "output_type": "execute_result"
    }
   ],
   "source": [
    "price = []\n",
    "for i in new_periods:\n",
    "    price.append(npf.fv(pp_increase, i / 12, 0, -m_price))\n",
    "price = np.array(price)\n",
    "price"
   ]
  },
  {
   "cell_type": "code",
   "execution_count": 33,
   "id": "b39b508d",
   "metadata": {},
   "outputs": [
    {
     "data": {
      "text/plain": [
       "Text(0, 0.5, 'Skumulowana wartość')"
      ]
     },
     "execution_count": 33,
     "metadata": {},
     "output_type": "execute_result"
    },
    {
     "data": {
      "image/png": "[encoded data removed]",
      "text/plain": [
       "<Figure size 640x480 with 1 Axes>"
      ]
     },
     "metadata": {},
     "output_type": "display_data"
    }
   ],
   "source": [
    "plt.plot(price, label='wzrost wartości mieszkania')\n",
    "plt.plot(savings, label='wpłaty na lokatę')\n",
    "plt.legend()\n",
    "plt.xlabel('Liczba okresów')\n",
    "plt.ylabel('Skumulowana wartość')"
   ]
  },
  {
   "cell_type": "code",
   "execution_count": null,
   "id": "13487daf",
   "metadata": {},
   "outputs": [],
   "source": []
  }
 ],
 "metadata": {
  "kernelspec": {
   "display_name": "Python 3 (ipykernel)",
   "language": "python",
   "name": "python3"
  },
  "language_info": {
   "codemirror_mode": {
    "name": "ipython",
    "version": 3
   },
   "file_extension": ".py",
   "mimetype": "text/x-python",
   "name": "python",
   "nbconvert_exporter": "python",
   "pygments_lexer": "ipython3",
   "version": "3.9.13"
  }
 },
 "nbformat": 4,
 "nbformat_minor": 5
}
